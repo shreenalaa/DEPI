{
 "cells": [
  {
   "cell_type": "markdown",
   "metadata": {},
   "source": [
    "💦**Import Libraries**"
   ]
  },
  {
   "cell_type": "code",
   "execution_count": 1,
   "metadata": {},
   "outputs": [],
   "source": [
    "import numpy as np\n",
    "import pandas as pd \n",
    "import matplotlib.pyplot as plt\n"
   ]
  },
  {
   "cell_type": "markdown",
   "metadata": {},
   "source": [
    "💦**Function To Fit Model**"
   ]
  },
  {
   "cell_type": "code",
   "execution_count": null,
   "metadata": {},
   "outputs": [],
   "source": [
    "def fit_model(x, b):\n",
    "    n = len(x)\n",
    "    x_bias = np.ones((n, 1))\n",
    "    x = np.c_[x_bias, x]\n",
    "    y_hat = x.dot(b)\n",
    "    return y_hat\n"
   ]
  },
  {
   "cell_type": "markdown",
   "metadata": {},
   "source": [
    "💦**Function To Calculate Betas Using Normal Equation**"
   ]
  },
  {
   "cell_type": "code",
   "execution_count": null,
   "metadata": {},
   "outputs": [],
   "source": [
    "\n",
    "def find_betas(x, y):\n",
    "    n = len(x)\n",
    "    x_bias = np.ones((n, 1))\n",
    "    x = np.c_[x_bias, x]\n",
    "    betas = np.linalg.inv(x.T.dot(x)).dot(x.T).dot(y)\n",
    "    return betas\n"
   ]
  },
  {
   "cell_type": "markdown",
   "metadata": {},
   "source": [
    "💦**Function To Predict Y**"
   ]
  },
  {
   "cell_type": "code",
   "execution_count": null,
   "metadata": {},
   "outputs": [],
   "source": [
    "\n",
    "def predict(x, betas):\n",
    "    n = len(x)\n",
    "    x_bias = np.ones((n, 1))\n",
    "    x = np.c_[x_bias, x]\n",
    "    prediction = x.dot(betas)\n",
    "    return prediction\n"
   ]
  },
  {
   "cell_type": "markdown",
   "metadata": {},
   "source": [
    "💦**Function to Calculate the coefficient of determination (R-squared)**\n"
   ]
  },
  {
   "cell_type": "code",
   "execution_count": null,
   "metadata": {},
   "outputs": [],
   "source": [
    "\n",
    "def r_square(ssr, sst):\n",
    "    return ssr / sst\n"
   ]
  },
  {
   "cell_type": "markdown",
   "metadata": {},
   "source": [
    "💦**Function To Implement Simple Gradient Descent**"
   ]
  },
  {
   "cell_type": "code",
   "execution_count": null,
   "metadata": {},
   "outputs": [],
   "source": [
    "def simple_gradient_descent(alpha,iterations,x,y):\n",
    "    m = len(x) # data size\n",
    "    b0 = 0  # initial value \n",
    "    b1 = 0  # initial value\n",
    "    for i in range(iterations):\n",
    "        y_hat = b0 + b1 * x \n",
    "        b0 = b0 - alpha * 1/m * sum(y_hat - y)\n",
    "        b1 = b1 - alpha * 1/m * sum((y_hat - y) * x)\n",
    "    return b0, b1\n"
   ]
  },
  {
   "cell_type": "markdown",
   "metadata": {},
   "source": [
    "💦**Function To Implement General Gradient Descent**"
   ]
  },
  {
   "cell_type": "code",
   "execution_count": null,
   "metadata": {},
   "outputs": [],
   "source": [
    "\n",
    "def gradient_descent(alpha, iterations, x, y):\n",
    "    m = x.shape[0]  # to get number of rows\n",
    "    x_bias = np.ones((m,1))   \n",
    "    x = np.c_[x_bias, x]    # add bias term (b0) \n",
    "    k = x.shape[1]      # to get number of features\n",
    "    betas = np.random.randn(k,1) # matrix of initial random values for betas \n",
    "    for i in range(iterations):\n",
    "        betas = betas - alpha * 2/m * x.T.dot(x.dot(betas)-y)\n",
    "    return betas\n"
   ]
  },
  {
   "cell_type": "markdown",
   "metadata": {},
   "source": [
    "💦**Function To Implement Stochastic Gradient Descent**"
   ]
  },
  {
   "cell_type": "code",
   "execution_count": null,
   "metadata": {},
   "outputs": [],
   "source": [
    "def stochastic_gradient_descent(alpha, iterations, x, y, batch_size=1):\n",
    "    \"\"\"\n",
    "    Implements Stochastic Gradient Descent (SGD) for linear regression.\n",
    "    \n",
    "    Parameters:\n",
    "    alpha (float): Learning rate\n",
    "    iterations (int): Number of passes through the dataset\n",
    "    x (ndarray): Feature matrix of shape (n_samples, n_features)\n",
    "    y (ndarray): Target vector of shape (n_samples, 1)\n",
    "    batch_size (int): Number of samples per batch (default: 1)\n",
    "    \n",
    "    Returns:\n",
    "    betas (ndarray): Learned parameters\n",
    "    \"\"\"\n",
    "    m = x.shape[0]  # Number of samples\n",
    "    x_bias = np.ones((m, 1))  # Create a bias column\n",
    "    x = np.c_[x_bias, x]  # Add bias term (b0) to feature matrix\n",
    "    k = x.shape[1]  # Number of features (including bias)\n",
    "    betas = np.random.randn(k, 1)  # Initialize betas randomly\n",
    "    \n",
    "    for i in range(iterations):\n",
    "        indices = np.arange(m)  # Create an array of indices\n",
    "        np.random.shuffle(indices)  # Shuffle data each epoch for randomness\n",
    "        \n",
    "        for j in range(0, m, batch_size):\n",
    "            batch_indices = indices[j:j + batch_size]  # Select batch indices\n",
    "            x_batch, y_batch = x[batch_indices], y[batch_indices]  # Extract batch samples\n",
    "            \n",
    "            # Compute gradient for the batch\n",
    "            gradient = 2 / batch_size * x_batch.T.dot(x_batch.dot(betas) - y_batch)\n",
    "            \n",
    "            # Update parameters using the computed gradient\n",
    "            betas = betas - alpha * gradient\n",
    "    \n",
    "    return betas\n"
   ]
  },
  {
   "cell_type": "markdown",
   "metadata": {},
   "source": [
    "💦**Function To Implement Mini Batch Gradient Descent**"
   ]
  },
  {
   "cell_type": "code",
   "execution_count": null,
   "metadata": {},
   "outputs": [],
   "source": [
    "def mini_batch_gradient_descent(alpha, iterations, x, y, batch_size=10):\n",
    "    m = x.shape[0]  # Number of samples\n",
    "    x_bias = np.ones((m, 1))  # Create a bias column\n",
    "    x = np.c_[x_bias, x]  # Add bias term (b0) to feature matrix\n",
    "    k = x.shape[1]  # Number of features (including bias)\n",
    "    betas = np.random.randn(k, 1)  # Initialize betas randomly\n",
    "    \n",
    "    for i in range(iterations):\n",
    "        indices = np.arange(m)  # Create an array of indices\n",
    "        np.random.shuffle(indices)  # Shuffle data each epoch for randomness\n",
    "        \n",
    "        for j in range(0, m, batch_size):\n",
    "            batch_indices = indices[j:j + batch_size]  # Select batch indices\n",
    "            x_batch, y_batch = x[batch_indices], y[batch_indices]  # Extract batch samples\n",
    "            \n",
    "            # Compute gradient for the batch\n",
    "            gradient = 2 / batch_size * x_batch.T.dot(x_batch.dot(betas) - y_batch)\n",
    "            \n",
    "            # Update parameters using the computed gradient\n",
    "            betas = betas - alpha * gradient\n",
    "    \n",
    "    return betas\n"
   ]
  },
  {
   "cell_type": "markdown",
   "metadata": {},
   "source": [
    "💦**Function To Implement Momentum Gradient Descent**"
   ]
  },
  {
   "cell_type": "code",
   "execution_count": null,
   "metadata": {},
   "outputs": [],
   "source": [
    "def momentum_gradient_descent(alpha, iterations, x, y, batch_size=10, gamma=0.9):\n",
    "   \n",
    "    m = x.shape[0]  # Number of samples\n",
    "    x_bias = np.ones((m, 1))  # Create a bias column\n",
    "    x = np.c_[x_bias, x]  # Add bias term (b0) to feature matrix\n",
    "    k = x.shape[1]  # Number of features (including bias)\n",
    "    betas = np.random.randn(k, 1)  # Initialize betas randomly\n",
    "    velocity = np.zeros((k, 1))  # Initialize velocity vector for momentum\n",
    "    \n",
    "    for i in range(iterations):\n",
    "        indices = np.arange(m)  # Create an array of indices\n",
    "        np.random.shuffle(indices)  # Shuffle data each epoch for randomness\n",
    "        \n",
    "        for j in range(0, m, batch_size):\n",
    "            batch_indices = indices[j:j + batch_size]  # Select batch indices\n",
    "            x_batch, y_batch = x[batch_indices], y[batch_indices]  # Extract batch samples\n",
    "            \n",
    "            # Compute gradient for the batch\n",
    "            gradient = 2 / batch_size * x_batch.T.dot(x_batch.dot(betas) - y_batch)\n",
    "            \n",
    "            # Update velocity term using momentum\n",
    "            velocity = gamma * velocity + alpha * gradient\n",
    "            \n",
    "            # Update parameters using velocity\n",
    "            betas = betas - velocity\n",
    "    \n",
    "    return betas\n"
   ]
  },
  {
   "cell_type": "markdown",
   "metadata": {},
   "source": [
    "💦**Create Random Data**"
   ]
  },
  {
   "cell_type": "code",
   "execution_count": null,
   "metadata": {},
   "outputs": [],
   "source": [
    "x = np.random.randn(100)\n",
    "y = 4*x + 3 + 3* np.random.randn(100)\n"
   ]
  },
  {
   "cell_type": "markdown",
   "metadata": {},
   "source": [
    "💦**Visualize Data**"
   ]
  },
  {
   "cell_type": "code",
   "execution_count": null,
   "metadata": {},
   "outputs": [
    {
     "data": {
      "text/plain": [
       "<matplotlib.collections.PathCollection at 0x2225ccc48d0>"
      ]
     },
     "execution_count": 4,
     "metadata": {},
     "output_type": "execute_result"
    },
    {
     "data": {
      "image/png": "[encoded data removed]",
      "text/plain": [
       "<Figure size 640x480 with 1 Axes>"
      ]
     },
     "metadata": {},
     "output_type": "display_data"
    }
   ],
   "source": [
    "plt.scatter(x,y)\n"
   ]
  },
  {
   "cell_type": "markdown",
   "metadata": {},
   "source": [
    "💦**Calculate Betas Using Simple Gradient Descent**"
   ]
  },
  {
   "cell_type": "code",
   "execution_count": null,
   "metadata": {},
   "outputs": [
    {
     "data": {
      "text/plain": [
       "(2.8371778419562137, 3.6974831711763136)"
      ]
     },
     "execution_count": 5,
     "metadata": {},
     "output_type": "execute_result"
    }
   ],
   "source": [
    "b0, b1 = simple_gradient_descent(alpha=.1, iterations=1000,x=x, y=y)\n",
    "b0,b1\n"
   ]
  },
  {
   "cell_type": "markdown",
   "metadata": {},
   "source": [
    "💦**Calculating Betas Using Normal Equation To Compare Both Results**"
   ]
  },
  {
   "cell_type": "code",
   "execution_count": null,
   "metadata": {},
   "outputs": [
    {
     "data": {
      "text/plain": [
       "(2.8371778419562155, 2.8371778419562155)"
      ]
     },
     "execution_count": 6,
     "metadata": {},
     "output_type": "execute_result"
    }
   ],
   "source": [
    "b0,b1 = find_betas(x,y)\n",
    "b0,b0\n"
   ]
  },
  {
   "cell_type": "markdown",
   "metadata": {},
   "source": [
    "💦**Create Random Data**"
   ]
  },
  {
   "cell_type": "code",
   "execution_count": null,
   "metadata": {},
   "outputs": [
    {
     "data": {
      "text/plain": [
       "(100, 1)"
      ]
     },
     "execution_count": 7,
     "metadata": {},
     "output_type": "execute_result"
    }
   ],
   "source": [
    "x = np.random.randn(100,5)\n",
    "y = 15 * x + 13 + 2*np.random.randn(100,5)\n",
    "y = y[0:,0:1]\n",
    "y.shape\n"
   ]
  },
  {
   "cell_type": "markdown",
   "metadata": {},
   "source": [
    "💦**Calculate Betas Using General Gradient Descent**"
   ]
  },
  {
   "cell_type": "code",
   "execution_count": null,
   "metadata": {},
   "outputs": [
    {
     "data": {
      "text/plain": [
       "array([[12.94130948],\n",
       "       [15.16096764],\n",
       "       [ 0.26731529],\n",
       "       [ 0.31126465],\n",
       "       [ 0.21984453],\n",
       "       [-0.21160609]])"
      ]
     },
     "execution_count": 8,
     "metadata": {},
     "output_type": "execute_result"
    }
   ],
   "source": [
    "betas = gradient_descent(alpha=.1,iterations=6000,x=x,y=y)\n",
    "betas\n"
   ]
  },
  {
   "cell_type": "markdown",
   "metadata": {},
   "source": [
    "💦**Calculate Betas Using Normal Equation**"
   ]
  },
  {
   "cell_type": "code",
   "execution_count": null,
   "metadata": {},
   "outputs": [
    {
     "data": {
      "text/plain": [
       "array([[12.94130948],\n",
       "       [15.16096764],\n",
       "       [ 0.26731529],\n",
       "       [ 0.31126465],\n",
       "       [ 0.21984453],\n",
       "       [-0.21160609]])"
      ]
     },
     "execution_count": 9,
     "metadata": {},
     "output_type": "execute_result"
    }
   ],
   "source": [
    "find_betas(x,y)\n"
   ]
  }
 ],
 "metadata": {
  "kernelspec": {
   "display_name": "base",
   "language": "python",
   "name": "python3"
  },
  "language_info": {
   "codemirror_mode": {
    "name": "ipython",
    "version": 3
   },
   "file_extension": ".py",
   "mimetype": "text/x-python",
   "name": "python",
   "nbconvert_exporter": "python",
   "pygments_lexer": "ipython3",
   "version": "3.12.7"
  },
  "orig_nbformat": 4
 },
 "nbformat": 4,
 "nbformat_minor": 2
}
